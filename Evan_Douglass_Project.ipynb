{
 "cells": [
  {
   "cell_type": "markdown",
   "metadata": {},
   "source": [
    "# Wikipedia Talk Data - Getting Started"
   ]
  },
  {
   "cell_type": "markdown",
   "metadata": {},
   "source": [
    "Note that the content in this cell is from the original notebook provided by the researchers. My project involves experimenting with and improving upon their baseline classifier. The code cells below have been modified as needed duirng this process.\n",
    "\n",
    "---\n",
    "\n",
    "This notebook gives an introduction to working with the various data sets in [Wikipedia\n",
    "Talk](https://figshare.com/projects/Wikipedia_Talk/16731) project on Figshare. The release includes:\n",
    "\n",
    "1. a large historical corpus of discussion comments on Wikipedia talk pages\n",
    "2. a sample of over 100k comments with human labels for whether the comment contains a personal attack\n",
    "3. a sample of over 100k comments with human labels for whether the comment has aggressive tone\n",
    "\n",
    "Please refer to our [wiki](https://meta.wikimedia.org/wiki/Research:Detox/Data_Release) for documentation of the schema of each data set and our [research paper](https://arxiv.org/abs/1610.08914) for documentation on the data collection and modeling methodology. \n",
    "\n",
    "In this notebook we show how to build a simple classifier for detecting personal attacks and apply the classifier to a random sample of the comment corpus to see whether discussions on user pages have more personal attacks than discussion on article pages."
   ]
  },
  {
   "cell_type": "markdown",
   "metadata": {},
   "source": [
    "## Building a classifier for personal attacks"
   ]
  },
  {
   "cell_type": "markdown",
   "metadata": {},
   "source": [
    "### Set Up and Data Ingestion"
   ]
  },
  {
   "cell_type": "code",
   "execution_count": 1,
   "metadata": {},
   "outputs": [],
   "source": [
    "import pandas as pd\n",
    "import urllib\n",
    "import matplotlib.pyplot as plt\n",
    "from sklearn import metrics\n",
    "from sklearn.pipeline import Pipeline\n",
    "from sklearn.pipeline import FeatureUnion\n",
    "from sklearn.model_selection import cross_validate\n",
    "from sklearn.feature_extraction.text import CountVectorizer\n",
    "from sklearn.feature_extraction.text import TfidfTransformer\n",
    "from sklearn.linear_model import SGDClassifier"
   ]
  },
  {
   "cell_type": "code",
   "execution_count": 2,
   "metadata": {},
   "outputs": [],
   "source": [
    "# download annotated comments and annotations\n",
    "\n",
    "ANNOTATED_COMMENTS_URL = 'https://ndownloader.figshare.com/files/7554634' \n",
    "ANNOTATIONS_URL = 'https://ndownloader.figshare.com/files/7554637' \n",
    "\n",
    "def download_file(url, fname):\n",
    "    urllib.request.urlretrieve(url, fname)\n",
    "\n",
    "# Uncomment to store files locally        \n",
    "## download_file(ANNOTATED_COMMENTS_URL, 'attack_annotated_comments.tsv')\n",
    "## download_file(ANNOTATIONS_URL, 'attack_annotations.tsv')"
   ]
  },
  {
   "cell_type": "code",
   "execution_count": 3,
   "metadata": {},
   "outputs": [],
   "source": [
    "comments = pd.read_csv('attack_annotated_comments.tsv', sep = '\\t', index_col = 0)\n",
    "annotations = pd.read_csv('attack_annotations.tsv',  sep = '\\t')"
   ]
  },
  {
   "cell_type": "markdown",
   "metadata": {},
   "source": [
    "### Data Exploration and Cleaning"
   ]
  },
  {
   "cell_type": "code",
   "execution_count": 4,
   "metadata": {},
   "outputs": [
    {
     "data": {
      "text/html": [
       "<div>\n",
       "<style scoped>\n",
       "    .dataframe tbody tr th:only-of-type {\n",
       "        vertical-align: middle;\n",
       "    }\n",
       "\n",
       "    .dataframe tbody tr th {\n",
       "        vertical-align: top;\n",
       "    }\n",
       "\n",
       "    .dataframe thead th {\n",
       "        text-align: right;\n",
       "    }\n",
       "</style>\n",
       "<table border=\"1\" class=\"dataframe\">\n",
       "  <thead>\n",
       "    <tr style=\"text-align: right;\">\n",
       "      <th></th>\n",
       "      <th>comment</th>\n",
       "      <th>year</th>\n",
       "      <th>logged_in</th>\n",
       "      <th>ns</th>\n",
       "      <th>sample</th>\n",
       "      <th>split</th>\n",
       "    </tr>\n",
       "    <tr>\n",
       "      <th>rev_id</th>\n",
       "      <th></th>\n",
       "      <th></th>\n",
       "      <th></th>\n",
       "      <th></th>\n",
       "      <th></th>\n",
       "      <th></th>\n",
       "    </tr>\n",
       "  </thead>\n",
       "  <tbody>\n",
       "    <tr>\n",
       "      <th>37675</th>\n",
       "      <td>`-NEWLINE_TOKENThis is not ``creative``.  Thos...</td>\n",
       "      <td>2002</td>\n",
       "      <td>False</td>\n",
       "      <td>article</td>\n",
       "      <td>random</td>\n",
       "      <td>train</td>\n",
       "    </tr>\n",
       "    <tr>\n",
       "      <th>44816</th>\n",
       "      <td>`NEWLINE_TOKENNEWLINE_TOKEN:: the term ``stand...</td>\n",
       "      <td>2002</td>\n",
       "      <td>False</td>\n",
       "      <td>article</td>\n",
       "      <td>random</td>\n",
       "      <td>train</td>\n",
       "    </tr>\n",
       "    <tr>\n",
       "      <th>49851</th>\n",
       "      <td>NEWLINE_TOKENNEWLINE_TOKENTrue or false, the s...</td>\n",
       "      <td>2002</td>\n",
       "      <td>False</td>\n",
       "      <td>article</td>\n",
       "      <td>random</td>\n",
       "      <td>train</td>\n",
       "    </tr>\n",
       "    <tr>\n",
       "      <th>89320</th>\n",
       "      <td>Next, maybe you could work on being less cond...</td>\n",
       "      <td>2002</td>\n",
       "      <td>True</td>\n",
       "      <td>article</td>\n",
       "      <td>random</td>\n",
       "      <td>dev</td>\n",
       "    </tr>\n",
       "    <tr>\n",
       "      <th>93890</th>\n",
       "      <td>This page will need disambiguation.</td>\n",
       "      <td>2002</td>\n",
       "      <td>True</td>\n",
       "      <td>article</td>\n",
       "      <td>random</td>\n",
       "      <td>train</td>\n",
       "    </tr>\n",
       "  </tbody>\n",
       "</table>\n",
       "</div>"
      ],
      "text/plain": [
       "                                                  comment  year  logged_in  \\\n",
       "rev_id                                                                       \n",
       "37675   `-NEWLINE_TOKENThis is not ``creative``.  Thos...  2002      False   \n",
       "44816   `NEWLINE_TOKENNEWLINE_TOKEN:: the term ``stand...  2002      False   \n",
       "49851   NEWLINE_TOKENNEWLINE_TOKENTrue or false, the s...  2002      False   \n",
       "89320    Next, maybe you could work on being less cond...  2002       True   \n",
       "93890                This page will need disambiguation.   2002       True   \n",
       "\n",
       "             ns  sample  split  \n",
       "rev_id                          \n",
       "37675   article  random  train  \n",
       "44816   article  random  train  \n",
       "49851   article  random  train  \n",
       "89320   article  random    dev  \n",
       "93890   article  random  train  "
      ]
     },
     "execution_count": 4,
     "metadata": {},
     "output_type": "execute_result"
    }
   ],
   "source": [
    "# Top of the comments file\n",
    "comments.head(5)"
   ]
  },
  {
   "cell_type": "code",
   "execution_count": 5,
   "metadata": {},
   "outputs": [
    {
     "data": {
      "text/html": [
       "<div>\n",
       "<style scoped>\n",
       "    .dataframe tbody tr th:only-of-type {\n",
       "        vertical-align: middle;\n",
       "    }\n",
       "\n",
       "    .dataframe tbody tr th {\n",
       "        vertical-align: top;\n",
       "    }\n",
       "\n",
       "    .dataframe thead th {\n",
       "        text-align: right;\n",
       "    }\n",
       "</style>\n",
       "<table border=\"1\" class=\"dataframe\">\n",
       "  <thead>\n",
       "    <tr style=\"text-align: right;\">\n",
       "      <th></th>\n",
       "      <th>comment</th>\n",
       "      <th>year</th>\n",
       "      <th>logged_in</th>\n",
       "      <th>ns</th>\n",
       "      <th>sample</th>\n",
       "      <th>split</th>\n",
       "    </tr>\n",
       "    <tr>\n",
       "      <th>rev_id</th>\n",
       "      <th></th>\n",
       "      <th></th>\n",
       "      <th></th>\n",
       "      <th></th>\n",
       "      <th></th>\n",
       "      <th></th>\n",
       "    </tr>\n",
       "  </thead>\n",
       "  <tbody>\n",
       "    <tr>\n",
       "      <th>37675</th>\n",
       "      <td>`- This is not ``creative``.  Those are the di...</td>\n",
       "      <td>2002</td>\n",
       "      <td>False</td>\n",
       "      <td>article</td>\n",
       "      <td>random</td>\n",
       "      <td>train</td>\n",
       "    </tr>\n",
       "    <tr>\n",
       "      <th>44816</th>\n",
       "      <td>`  :: the term ``standard model`` is itself le...</td>\n",
       "      <td>2002</td>\n",
       "      <td>False</td>\n",
       "      <td>article</td>\n",
       "      <td>random</td>\n",
       "      <td>train</td>\n",
       "    </tr>\n",
       "    <tr>\n",
       "      <th>49851</th>\n",
       "      <td>True or false, the situation as of March 200...</td>\n",
       "      <td>2002</td>\n",
       "      <td>False</td>\n",
       "      <td>article</td>\n",
       "      <td>random</td>\n",
       "      <td>train</td>\n",
       "    </tr>\n",
       "    <tr>\n",
       "      <th>89320</th>\n",
       "      <td>Next, maybe you could work on being less cond...</td>\n",
       "      <td>2002</td>\n",
       "      <td>True</td>\n",
       "      <td>article</td>\n",
       "      <td>random</td>\n",
       "      <td>dev</td>\n",
       "    </tr>\n",
       "    <tr>\n",
       "      <th>93890</th>\n",
       "      <td>This page will need disambiguation.</td>\n",
       "      <td>2002</td>\n",
       "      <td>True</td>\n",
       "      <td>article</td>\n",
       "      <td>random</td>\n",
       "      <td>train</td>\n",
       "    </tr>\n",
       "  </tbody>\n",
       "</table>\n",
       "</div>"
      ],
      "text/plain": [
       "                                                  comment  year  logged_in  \\\n",
       "rev_id                                                                       \n",
       "37675   `- This is not ``creative``.  Those are the di...  2002      False   \n",
       "44816   `  :: the term ``standard model`` is itself le...  2002      False   \n",
       "49851     True or false, the situation as of March 200...  2002      False   \n",
       "89320    Next, maybe you could work on being less cond...  2002       True   \n",
       "93890                This page will need disambiguation.   2002       True   \n",
       "\n",
       "             ns  sample  split  \n",
       "rev_id                          \n",
       "37675   article  random  train  \n",
       "44816   article  random  train  \n",
       "49851   article  random  train  \n",
       "89320   article  random    dev  \n",
       "93890   article  random  train  "
      ]
     },
     "execution_count": 5,
     "metadata": {},
     "output_type": "execute_result"
    }
   ],
   "source": [
    "# remove newline and tab tokens\n",
    "comments['comment'] = comments['comment'].apply(lambda x: x.replace(\"NEWLINE_TOKEN\", \" \"))\n",
    "comments['comment'] = comments['comment'].apply(lambda x: x.replace(\"TAB_TOKEN\", \" \"))\n",
    "comments.head()"
   ]
  },
  {
   "cell_type": "code",
   "execution_count": 6,
   "metadata": {},
   "outputs": [
    {
     "data": {
      "text/html": [
       "<div>\n",
       "<style scoped>\n",
       "    .dataframe tbody tr th:only-of-type {\n",
       "        vertical-align: middle;\n",
       "    }\n",
       "\n",
       "    .dataframe tbody tr th {\n",
       "        vertical-align: top;\n",
       "    }\n",
       "\n",
       "    .dataframe thead th {\n",
       "        text-align: right;\n",
       "    }\n",
       "</style>\n",
       "<table border=\"1\" class=\"dataframe\">\n",
       "  <thead>\n",
       "    <tr style=\"text-align: right;\">\n",
       "      <th></th>\n",
       "      <th>rev_id</th>\n",
       "      <th>worker_id</th>\n",
       "      <th>quoting_attack</th>\n",
       "      <th>recipient_attack</th>\n",
       "      <th>third_party_attack</th>\n",
       "      <th>other_attack</th>\n",
       "      <th>attack</th>\n",
       "    </tr>\n",
       "  </thead>\n",
       "  <tbody>\n",
       "    <tr>\n",
       "      <th>0</th>\n",
       "      <td>37675</td>\n",
       "      <td>1362</td>\n",
       "      <td>0.0</td>\n",
       "      <td>0.0</td>\n",
       "      <td>0.0</td>\n",
       "      <td>0.0</td>\n",
       "      <td>0.0</td>\n",
       "    </tr>\n",
       "    <tr>\n",
       "      <th>1</th>\n",
       "      <td>37675</td>\n",
       "      <td>2408</td>\n",
       "      <td>0.0</td>\n",
       "      <td>0.0</td>\n",
       "      <td>0.0</td>\n",
       "      <td>0.0</td>\n",
       "      <td>0.0</td>\n",
       "    </tr>\n",
       "    <tr>\n",
       "      <th>2</th>\n",
       "      <td>37675</td>\n",
       "      <td>1493</td>\n",
       "      <td>0.0</td>\n",
       "      <td>0.0</td>\n",
       "      <td>0.0</td>\n",
       "      <td>0.0</td>\n",
       "      <td>0.0</td>\n",
       "    </tr>\n",
       "    <tr>\n",
       "      <th>3</th>\n",
       "      <td>37675</td>\n",
       "      <td>1439</td>\n",
       "      <td>0.0</td>\n",
       "      <td>0.0</td>\n",
       "      <td>0.0</td>\n",
       "      <td>0.0</td>\n",
       "      <td>0.0</td>\n",
       "    </tr>\n",
       "    <tr>\n",
       "      <th>4</th>\n",
       "      <td>37675</td>\n",
       "      <td>170</td>\n",
       "      <td>0.0</td>\n",
       "      <td>0.0</td>\n",
       "      <td>0.0</td>\n",
       "      <td>0.0</td>\n",
       "      <td>0.0</td>\n",
       "    </tr>\n",
       "  </tbody>\n",
       "</table>\n",
       "</div>"
      ],
      "text/plain": [
       "   rev_id  worker_id  quoting_attack  recipient_attack  third_party_attack  \\\n",
       "0   37675       1362             0.0               0.0                 0.0   \n",
       "1   37675       2408             0.0               0.0                 0.0   \n",
       "2   37675       1493             0.0               0.0                 0.0   \n",
       "3   37675       1439             0.0               0.0                 0.0   \n",
       "4   37675        170             0.0               0.0                 0.0   \n",
       "\n",
       "   other_attack  attack  \n",
       "0           0.0     0.0  \n",
       "1           0.0     0.0  \n",
       "2           0.0     0.0  \n",
       "3           0.0     0.0  \n",
       "4           0.0     0.0  "
      ]
     },
     "execution_count": 6,
     "metadata": {},
     "output_type": "execute_result"
    }
   ],
   "source": [
    "# Top of the annotations file, all are listed as not an attack\n",
    "annotations.head()"
   ]
  },
  {
   "cell_type": "code",
   "execution_count": 7,
   "metadata": {},
   "outputs": [
    {
     "data": {
      "text/html": [
       "<div>\n",
       "<style scoped>\n",
       "    .dataframe tbody tr th:only-of-type {\n",
       "        vertical-align: middle;\n",
       "    }\n",
       "\n",
       "    .dataframe tbody tr th {\n",
       "        vertical-align: top;\n",
       "    }\n",
       "\n",
       "    .dataframe thead th {\n",
       "        text-align: right;\n",
       "    }\n",
       "</style>\n",
       "<table border=\"1\" class=\"dataframe\">\n",
       "  <thead>\n",
       "    <tr style=\"text-align: right;\">\n",
       "      <th></th>\n",
       "      <th>rev_id</th>\n",
       "      <th>worker_id</th>\n",
       "      <th>quoting_attack</th>\n",
       "      <th>recipient_attack</th>\n",
       "      <th>third_party_attack</th>\n",
       "      <th>other_attack</th>\n",
       "      <th>attack</th>\n",
       "    </tr>\n",
       "  </thead>\n",
       "  <tbody>\n",
       "    <tr>\n",
       "      <th>33</th>\n",
       "      <td>89320</td>\n",
       "      <td>3341</td>\n",
       "      <td>0.0</td>\n",
       "      <td>1.0</td>\n",
       "      <td>0.0</td>\n",
       "      <td>0.0</td>\n",
       "      <td>1.0</td>\n",
       "    </tr>\n",
       "    <tr>\n",
       "      <th>35</th>\n",
       "      <td>89320</td>\n",
       "      <td>3338</td>\n",
       "      <td>0.0</td>\n",
       "      <td>1.0</td>\n",
       "      <td>0.0</td>\n",
       "      <td>0.0</td>\n",
       "      <td>1.0</td>\n",
       "    </tr>\n",
       "    <tr>\n",
       "      <th>36</th>\n",
       "      <td>89320</td>\n",
       "      <td>2101</td>\n",
       "      <td>0.0</td>\n",
       "      <td>0.0</td>\n",
       "      <td>0.0</td>\n",
       "      <td>1.0</td>\n",
       "      <td>1.0</td>\n",
       "    </tr>\n",
       "    <tr>\n",
       "      <th>37</th>\n",
       "      <td>89320</td>\n",
       "      <td>673</td>\n",
       "      <td>0.0</td>\n",
       "      <td>0.0</td>\n",
       "      <td>0.0</td>\n",
       "      <td>1.0</td>\n",
       "      <td>1.0</td>\n",
       "    </tr>\n",
       "    <tr>\n",
       "      <th>127</th>\n",
       "      <td>155243</td>\n",
       "      <td>214</td>\n",
       "      <td>0.0</td>\n",
       "      <td>0.0</td>\n",
       "      <td>0.0</td>\n",
       "      <td>1.0</td>\n",
       "      <td>1.0</td>\n",
       "    </tr>\n",
       "  </tbody>\n",
       "</table>\n",
       "</div>"
      ],
      "text/plain": [
       "     rev_id  worker_id  quoting_attack  recipient_attack  third_party_attack  \\\n",
       "33    89320       3341             0.0               1.0                 0.0   \n",
       "35    89320       3338             0.0               1.0                 0.0   \n",
       "36    89320       2101             0.0               0.0                 0.0   \n",
       "37    89320        673             0.0               0.0                 0.0   \n",
       "127  155243        214             0.0               0.0                 0.0   \n",
       "\n",
       "     other_attack  attack  \n",
       "33            0.0     1.0  \n",
       "35            0.0     1.0  \n",
       "36            1.0     1.0  \n",
       "37            1.0     1.0  \n",
       "127           1.0     1.0  "
      ]
     },
     "execution_count": 7,
     "metadata": {},
     "output_type": "execute_result"
    }
   ],
   "source": [
    "# First comments that are listed as an attack\n",
    "annotations.query('attack == 1.0').head()"
   ]
  },
  {
   "cell_type": "code",
   "execution_count": 8,
   "metadata": {
    "scrolled": true
   },
   "outputs": [
    {
     "data": {
      "text/plain": [
       "115864"
      ]
     },
     "execution_count": 8,
     "metadata": {},
     "output_type": "execute_result"
    }
   ],
   "source": [
    "# The number of unique comments\n",
    "len(annotations['rev_id'].unique())"
   ]
  },
  {
   "cell_type": "code",
   "execution_count": 9,
   "metadata": {},
   "outputs": [
    {
     "data": {
      "text/html": [
       "<div>\n",
       "<style scoped>\n",
       "    .dataframe tbody tr th:only-of-type {\n",
       "        vertical-align: middle;\n",
       "    }\n",
       "\n",
       "    .dataframe tbody tr th {\n",
       "        vertical-align: top;\n",
       "    }\n",
       "\n",
       "    .dataframe thead th {\n",
       "        text-align: right;\n",
       "    }\n",
       "</style>\n",
       "<table border=\"1\" class=\"dataframe\">\n",
       "  <thead>\n",
       "    <tr style=\"text-align: right;\">\n",
       "      <th></th>\n",
       "      <th>attack</th>\n",
       "      <th>comment</th>\n",
       "      <th>year</th>\n",
       "      <th>logged_in</th>\n",
       "      <th>ns</th>\n",
       "      <th>sample</th>\n",
       "      <th>split</th>\n",
       "    </tr>\n",
       "    <tr>\n",
       "      <th>rev_id</th>\n",
       "      <th></th>\n",
       "      <th></th>\n",
       "      <th></th>\n",
       "      <th></th>\n",
       "      <th></th>\n",
       "      <th></th>\n",
       "      <th></th>\n",
       "    </tr>\n",
       "  </thead>\n",
       "  <tbody>\n",
       "    <tr>\n",
       "      <th>37675</th>\n",
       "      <td>0.000000</td>\n",
       "      <td>`- This is not ``creative``.  Those are the di...</td>\n",
       "      <td>2002</td>\n",
       "      <td>False</td>\n",
       "      <td>article</td>\n",
       "      <td>random</td>\n",
       "      <td>train</td>\n",
       "    </tr>\n",
       "    <tr>\n",
       "      <th>44816</th>\n",
       "      <td>0.000000</td>\n",
       "      <td>`  :: the term ``standard model`` is itself le...</td>\n",
       "      <td>2002</td>\n",
       "      <td>False</td>\n",
       "      <td>article</td>\n",
       "      <td>random</td>\n",
       "      <td>train</td>\n",
       "    </tr>\n",
       "    <tr>\n",
       "      <th>49851</th>\n",
       "      <td>0.000000</td>\n",
       "      <td>True or false, the situation as of March 200...</td>\n",
       "      <td>2002</td>\n",
       "      <td>False</td>\n",
       "      <td>article</td>\n",
       "      <td>random</td>\n",
       "      <td>train</td>\n",
       "    </tr>\n",
       "    <tr>\n",
       "      <th>89320</th>\n",
       "      <td>0.444444</td>\n",
       "      <td>Next, maybe you could work on being less cond...</td>\n",
       "      <td>2002</td>\n",
       "      <td>True</td>\n",
       "      <td>article</td>\n",
       "      <td>random</td>\n",
       "      <td>dev</td>\n",
       "    </tr>\n",
       "    <tr>\n",
       "      <th>93890</th>\n",
       "      <td>0.000000</td>\n",
       "      <td>This page will need disambiguation.</td>\n",
       "      <td>2002</td>\n",
       "      <td>True</td>\n",
       "      <td>article</td>\n",
       "      <td>random</td>\n",
       "      <td>train</td>\n",
       "    </tr>\n",
       "  </tbody>\n",
       "</table>\n",
       "</div>"
      ],
      "text/plain": [
       "          attack                                            comment  year  \\\n",
       "rev_id                                                                      \n",
       "37675   0.000000  `- This is not ``creative``.  Those are the di...  2002   \n",
       "44816   0.000000  `  :: the term ``standard model`` is itself le...  2002   \n",
       "49851   0.000000    True or false, the situation as of March 200...  2002   \n",
       "89320   0.444444   Next, maybe you could work on being less cond...  2002   \n",
       "93890   0.000000               This page will need disambiguation.   2002   \n",
       "\n",
       "        logged_in       ns  sample  split  \n",
       "rev_id                                     \n",
       "37675       False  article  random  train  \n",
       "44816       False  article  random  train  \n",
       "49851       False  article  random  train  \n",
       "89320        True  article  random    dev  \n",
       "93890        True  article  random  train  "
      ]
     },
     "execution_count": 9,
     "metadata": {},
     "output_type": "execute_result"
    }
   ],
   "source": [
    "# Get mean of attack column and join \n",
    "attack_means = annotations.groupby('rev_id')[['attack']].mean()\n",
    "# Join on comments\n",
    "joined = attack_means.join(comments, on='rev_id')\n",
    "joined.head()"
   ]
  },
  {
   "cell_type": "markdown",
   "metadata": {},
   "source": [
    "**The following section contains charts to explore how attack ratings vary across other fields.**"
   ]
  },
  {
   "cell_type": "code",
   "execution_count": 10,
   "metadata": {},
   "outputs": [
    {
     "name": "stdout",
     "output_type": "stream",
     "text": [
      "year:\n",
      "[2002 2001 2003 2004 2005 2006 2007 2008 2009 2010 2011 2012 2013 2014\n",
      " 2015 2016]\n",
      "logged_in:\n",
      "[False  True]\n",
      "ns (namespace):\n",
      "['article' 'user']\n",
      "sample:\n",
      "['random' 'blocked']\n"
     ]
    }
   ],
   "source": [
    "# Unique values for possible extra attributes\n",
    "# split column left out as this was added by researchers for training\n",
    "print(\"year:\", joined['year'].unique(), sep=\"\\n\")\n",
    "print(\"logged_in:\", joined['logged_in'].unique(), sep=\"\\n\")\n",
    "print(\"ns (namespace):\", joined['ns'].unique(), sep=\"\\n\")\n",
    "print(\"sample:\", joined['sample'].unique(), sep=\"\\n\")"
   ]
  },
  {
   "cell_type": "markdown",
   "metadata": {},
   "source": [
    "Attacks by `year`"
   ]
  },
  {
   "cell_type": "code",
   "execution_count": 11,
   "metadata": {},
   "outputs": [
    {
     "data": {
      "text/plain": [
       "<matplotlib.axes._subplots.AxesSubplot at 0x7f8dc5663e50>"
      ]
     },
     "execution_count": 11,
     "metadata": {},
     "output_type": "execute_result"
    },
    {
     "data": {
      "image/png": "[encoded data removed]",
      "text/plain": [
       "<Figure size 432x288 with 1 Axes>"
      ]
     },
     "metadata": {
      "needs_background": "light"
     },
     "output_type": "display_data"
    }
   ],
   "source": [
    "# Number of comments rated by year\n",
    "comments_per_year = joined.groupby('year')['comment'].count()\n",
    "# Sum of mean attack ratings on a comment by year\n",
    "attack_per_year = joined.groupby('year')['attack'].sum()\n",
    "# Combine above series to a dataframe and rename columns\n",
    "year = pd.concat([comments_per_year, attack_per_year], axis=1)\n",
    "year = year.rename(columns={'comment': 'num_comments', 'attack': 'mean_sum_attack'})\n",
    "# Plot the data\n",
    "year.plot(kind='bar')"
   ]
  },
  {
   "cell_type": "markdown",
   "metadata": {},
   "source": [
    "The `year` column does not appear to be a valuable indicator of whether a comment is an attack. Both distributions appear to rise and fall in the same proportion by year, indicating that the number of comments rated as attacks is correlated with the number of comments."
   ]
  },
  {
   "cell_type": "markdown",
   "metadata": {},
   "source": [
    "Attacks by `logged_in`"
   ]
  },
  {
   "cell_type": "code",
   "execution_count": 12,
   "metadata": {},
   "outputs": [
    {
     "data": {
      "text/plain": [
       "<matplotlib.axes._subplots.AxesSubplot at 0x7f8dc8a4b190>"
      ]
     },
     "execution_count": 12,
     "metadata": {},
     "output_type": "execute_result"
    },
    {
     "data": {
      "image/png": "[encoded data removed]",
      "text/plain": [
       "<Figure size 432x288 with 1 Axes>"
      ]
     },
     "metadata": {
      "needs_background": "light"
     },
     "output_type": "display_data"
    }
   ],
   "source": [
    "# Get data\n",
    "comments_per_loggedin = joined.groupby('logged_in')['comment'].count()\n",
    "attacks_per_loggedin = joined.groupby('logged_in')['attack'].sum()\n",
    "# Combine data\n",
    "loggedin = pd.concat([comments_per_loggedin, attacks_per_loggedin], axis=1)\n",
    "loggedin = loggedin.rename(columns={'comment': 'num_comments', 'attack': 'mean_sum_attack'})\n",
    "# Plot\n",
    "loggedin.plot(kind='bar')"
   ]
  },
  {
   "cell_type": "markdown",
   "metadata": {},
   "source": [
    "The `logged_in` column could be interesting. While the mean sum of attack ratings are about the same, the proportion of attacks coming from logged out users appears higher than those coming from logged in users."
   ]
  },
  {
   "cell_type": "markdown",
   "metadata": {},
   "source": [
    "Attacks by namespace"
   ]
  },
  {
   "cell_type": "code",
   "execution_count": 13,
   "metadata": {},
   "outputs": [
    {
     "data": {
      "text/plain": [
       "<matplotlib.axes._subplots.AxesSubplot at 0x7f8dc79fe4d0>"
      ]
     },
     "execution_count": 13,
     "metadata": {},
     "output_type": "execute_result"
    },
    {
     "data": {
      "image/png": "[encoded data removed]",
      "text/plain": [
       "<Figure size 432x288 with 1 Axes>"
      ]
     },
     "metadata": {
      "needs_background": "light"
     },
     "output_type": "display_data"
    }
   ],
   "source": [
    "# Get data\n",
    "comments_per_ns = joined.groupby('ns')['comment'].count()\n",
    "attacks_per_ns = joined.groupby('ns')['attack'].sum()\n",
    "# Combine data\n",
    "namespace = pd.concat([comments_per_ns, attacks_per_ns], axis=1)\n",
    "namespace = namespace.rename(columns={'comment': 'num_comments', 'attack': 'mean_sum_attack'})\n",
    "# Plot\n",
    "namespace.plot(kind='bar')"
   ]
  },
  {
   "cell_type": "markdown",
   "metadata": {},
   "source": [
    "Finally, attacks by `sample`. Read more about the `sample` column here: [wiki](https://meta.wikimedia.org/wiki/Research:Detox/Data_Release)"
   ]
  },
  {
   "cell_type": "code",
   "execution_count": 14,
   "metadata": {},
   "outputs": [
    {
     "data": {
      "text/plain": [
       "<matplotlib.axes._subplots.AxesSubplot at 0x7f8dc877ac10>"
      ]
     },
     "execution_count": 14,
     "metadata": {},
     "output_type": "execute_result"
    },
    {
     "data": {
      "image/png": "[encoded data removed]",
      "text/plain": [
       "<Figure size 432x288 with 1 Axes>"
      ]
     },
     "metadata": {
      "needs_background": "light"
     },
     "output_type": "display_data"
    }
   ],
   "source": [
    "# Get data\n",
    "comments_per_sample = joined.groupby('sample')['comment'].count()\n",
    "attacks_per_sample = joined.groupby('sample')['attack'].sum()\n",
    "# Combine data\n",
    "sample = pd.concat([comments_per_sample, attacks_per_sample], axis=1)\n",
    "sample = sample.rename(columns={'comment': 'num_comments', 'attack': 'mean_sum_attack'})\n",
    "# Plot\n",
    "sample.plot(kind='bar')"
   ]
  },
  {
   "cell_type": "markdown",
   "metadata": {},
   "source": [
    "Similar to the `year` chart, the difference between the number of comments and the mean sum of attack ratings are roughly proportional for both the `ns` and `sample` columns. This suggests that these columns do not have a significant effect on the classification of whether a comment contains an attack or not. As the number of comments reviewed goes up, so do the number of comments with an attack."
   ]
  },
  {
   "cell_type": "markdown",
   "metadata": {},
   "source": [
    "**Attacks**\n",
    "\n",
    "I decided to use the same method as the original researchers to determine a comment containing a personal attack. That is, I used the mean of attack ratings for a single comment. However, I raised the threshold of an attack rating to require a higher mean (greater than 7 reviewers had to rate the comment as containing an attack. I arrived at this number through simple experimentation: Raising the threshold until the metrics started to fall again."
   ]
  },
  {
   "cell_type": "code",
   "execution_count": 15,
   "metadata": {
    "scrolled": false
   },
   "outputs": [
    {
     "data": {
      "text/html": [
       "<div>\n",
       "<style scoped>\n",
       "    .dataframe tbody tr th:only-of-type {\n",
       "        vertical-align: middle;\n",
       "    }\n",
       "\n",
       "    .dataframe tbody tr th {\n",
       "        vertical-align: top;\n",
       "    }\n",
       "\n",
       "    .dataframe thead th {\n",
       "        text-align: right;\n",
       "    }\n",
       "</style>\n",
       "<table border=\"1\" class=\"dataframe\">\n",
       "  <thead>\n",
       "    <tr style=\"text-align: right;\">\n",
       "      <th></th>\n",
       "      <th>attack</th>\n",
       "      <th>comment</th>\n",
       "      <th>year</th>\n",
       "      <th>logged_in</th>\n",
       "      <th>ns</th>\n",
       "      <th>sample</th>\n",
       "      <th>split</th>\n",
       "    </tr>\n",
       "    <tr>\n",
       "      <th>rev_id</th>\n",
       "      <th></th>\n",
       "      <th></th>\n",
       "      <th></th>\n",
       "      <th></th>\n",
       "      <th></th>\n",
       "      <th></th>\n",
       "      <th></th>\n",
       "    </tr>\n",
       "  </thead>\n",
       "  <tbody>\n",
       "    <tr>\n",
       "      <th>37675</th>\n",
       "      <td>False</td>\n",
       "      <td>`- This is not ``creative``.  Those are the di...</td>\n",
       "      <td>2002</td>\n",
       "      <td>False</td>\n",
       "      <td>article</td>\n",
       "      <td>random</td>\n",
       "      <td>train</td>\n",
       "    </tr>\n",
       "    <tr>\n",
       "      <th>44816</th>\n",
       "      <td>False</td>\n",
       "      <td>`  :: the term ``standard model`` is itself le...</td>\n",
       "      <td>2002</td>\n",
       "      <td>False</td>\n",
       "      <td>article</td>\n",
       "      <td>random</td>\n",
       "      <td>train</td>\n",
       "    </tr>\n",
       "    <tr>\n",
       "      <th>49851</th>\n",
       "      <td>False</td>\n",
       "      <td>True or false, the situation as of March 200...</td>\n",
       "      <td>2002</td>\n",
       "      <td>False</td>\n",
       "      <td>article</td>\n",
       "      <td>random</td>\n",
       "      <td>train</td>\n",
       "    </tr>\n",
       "    <tr>\n",
       "      <th>89320</th>\n",
       "      <td>False</td>\n",
       "      <td>Next, maybe you could work on being less cond...</td>\n",
       "      <td>2002</td>\n",
       "      <td>True</td>\n",
       "      <td>article</td>\n",
       "      <td>random</td>\n",
       "      <td>dev</td>\n",
       "    </tr>\n",
       "    <tr>\n",
       "      <th>93890</th>\n",
       "      <td>False</td>\n",
       "      <td>This page will need disambiguation.</td>\n",
       "      <td>2002</td>\n",
       "      <td>True</td>\n",
       "      <td>article</td>\n",
       "      <td>random</td>\n",
       "      <td>train</td>\n",
       "    </tr>\n",
       "  </tbody>\n",
       "</table>\n",
       "</div>"
      ],
      "text/plain": [
       "        attack                                            comment  year  \\\n",
       "rev_id                                                                    \n",
       "37675    False  `- This is not ``creative``.  Those are the di...  2002   \n",
       "44816    False  `  :: the term ``standard model`` is itself le...  2002   \n",
       "49851    False    True or false, the situation as of March 200...  2002   \n",
       "89320    False   Next, maybe you could work on being less cond...  2002   \n",
       "93890    False               This page will need disambiguation.   2002   \n",
       "\n",
       "        logged_in       ns  sample  split  \n",
       "rev_id                                     \n",
       "37675       False  article  random  train  \n",
       "44816       False  article  random  train  \n",
       "49851       False  article  random  train  \n",
       "89320        True  article  random    dev  \n",
       "93890        True  article  random  train  "
      ]
     },
     "execution_count": 15,
     "metadata": {},
     "output_type": "execute_result"
    }
   ],
   "source": [
    "# Label a comment as an atack if the majority of annoatators did so\n",
    "labels = annotations.groupby('rev_id')['attack'].mean() > 0.7\n",
    "# Replace attack mean with the boolean values above\n",
    "joined['attack'] = labels\n",
    "joined.head()"
   ]
  },
  {
   "cell_type": "markdown",
   "metadata": {},
   "source": [
    "### Building the Model"
   ]
  },
  {
   "cell_type": "markdown",
   "metadata": {},
   "source": [
    "The only feature I think is worth considering for the model below, in addition to the comment column, is whether the user writing the comment was logged in or not.\n",
    "\n",
    "Unfortunately, I was not able to combine these features in a FeatureUnion, as you can see in the training section below. I kept running into errors that were not helpful and that I could not find any useful solution to online. The methods I did try, such as writing my own transformer that simply gives back a column, did not work. This is perhaps understandable given my inexperience with sci-kit learn and machine learning in general."
   ]
  },
  {
   "cell_type": "code",
   "execution_count": 16,
   "metadata": {},
   "outputs": [],
   "source": [
    "# This code cell contains the classes I tried to write for extracting\n",
    "# columns for use in a FeatureUnion. I have not been able to figure out\n",
    "# what is wrong with them as they simply cause my cross-validation\n",
    "# metrics to return NaN values instead of failing with a useful error\n",
    "# message. I have commented out these classes instead of deleting them\n",
    "# because I want to keep a reference to them if I figure out a solution.\n",
    "# Highlight everything below and 'ctrl + '/'' to uncomment.\n",
    "\n",
    "# from sklearn.base import TransformerMixin\n",
    "# from sklearn.base import BaseEstimator\n",
    "\n",
    "# # Transformer used for feature union\n",
    "# class ColumnExtractor(BaseEstimator, TransformerMixin):\n",
    "#     '''Transformer class to extract a single column from a dataframe.'''\n",
    "    \n",
    "#     def __init__(self, column_name):\n",
    "#         self.column = column_name\n",
    "        \n",
    "#     def transform(self, X, y=None):\n",
    "#         return X[[self.column]]\n",
    "    \n",
    "#     def fit(self, X, y=None):\n",
    "#         return self\n",
    "\n",
    "    \n",
    "# # This solution to a ValueError in the below pipeline was found here:\n",
    "# # https://stackoverflow.com/questions/45194111/sklearn-featureunion-of-heterogenous-features-gives-incompatible-row-dimensions\n",
    "# class Converter(BaseEstimator, TransformerMixin):\n",
    "#     '''Converts tranformer result to required shape for further steps in pipelines.'''\n",
    "#     def fit(self, x, y=None):\n",
    "#         return self\n",
    "\n",
    "#     def transform(self, data_frame):\n",
    "#         return data_frame.values.ravel()"
   ]
  },
  {
   "cell_type": "markdown",
   "metadata": {},
   "source": [
    "The following code cell contains logic to seperate out test and train data as well as to set up a pipeline for data cleaning and processing. It then trains a model with the training data.\n",
    "\n",
    "Most text cleaning is done in the CountVectorizor. By default this parses the words in some text, ignoring punctuation, and makes them all lowercase. Before passing comments into the vectorizor, I kept the researchers methods that removed newlines, tabs and other whitespace text (this is done in the 'exploring data' section above. Beyond this simple cleaning, the vectorizor did everything I needed it to do. I did experiment with several text cleaning options within the vectorizor including using only unigrams or both unigrams and bigrams, using words or characters as the 'gram', keeping the comment casing or transforming text to lowercase, and including stop words - both the sklearn given 'english' set and a simple set of common words like 'and', 'the', etc. In the end, all the defaults produced the best performance, that is, only using unigrams, parsing the text into words, lowercasing everything, and not using any stop words."
   ]
  },
  {
   "cell_type": "code",
   "execution_count": 17,
   "metadata": {},
   "outputs": [],
   "source": [
    "# Seperate out train and test data\n",
    "# Note that I have included the 'dev' data to include in training\n",
    "# because I use cross-validation metrics below.\n",
    "train_comments = joined.query(\"split=='train' or split=='dev'\")\n",
    "test_comments = joined.query(\"split=='test'\")\n",
    "\n",
    "clf = Pipeline([\n",
    "    # CountVectorizer does preprocessing on text including transforming\n",
    "    # to lower-case and ignoring punctuation, as well as converting text\n",
    "    # to a matrix of token counts.\n",
    "    ('vect', CountVectorizer(max_features = 10000)),\n",
    "    # Transforms the count matrix to a normalized representation,\n",
    "    # includes smoothing the data.\n",
    "    ('tfidf', TfidfTransformer()),\n",
    "    # A linear classifier that creates the ML model\n",
    "    ('clf', SGDClassifier(loss='modified_huber', tol=None)),\n",
    "])\n",
    "\n",
    "# This section is commented out for later reference. This is what\n",
    "# the feature union I tried to make looks like. Remove the 'clf'\n",
    "# step above and rename that pipeline 'comments' in order to run\n",
    "# this block.\n",
    "\n",
    "## Classifier pipeline\n",
    "# clf = Pipeline([\n",
    "#     # Features to combine\n",
    "#     ('feats', FeatureUnion([\n",
    "#         ('comments', comments),\n",
    "#         ('logged_in', ColumnExtractor(column_name='logged_in'))\n",
    "#     ])),\n",
    "#     # The actual classifier\n",
    "#     ('clf', SGDClassifier(loss='modified_huber', tol=None)),\n",
    "# ])\n",
    "\n",
    "clf = clf.fit(train_comments['comment'], train_comments['attack'])"
   ]
  },
  {
   "cell_type": "markdown",
   "metadata": {},
   "source": [
    "**A note on hyperparameter tuning**\n",
    "\n",
    "For most parameters in each stage of my pipeline (at least those I understood the purpose of) I manually experimented with changing values. I did try a `GridSearchCV` with value ranges for the number of ngrams used, whether to lowercase words and the _alpha_ parameter for SGDClassifier. As it turns out, after doing manual testing, the grid search produced a lower accuracy model than I already had. I don't understand why this happened, because the grid search parameters included those that I had already used. However, the differences were minor, so may not have been significant."
   ]
  },
  {
   "cell_type": "markdown",
   "metadata": {},
   "source": [
    "### Testing the Model\n",
    "\n",
    "In addition to the ROC AUC score provided in the baseline model, I used the `cross_validate` method (with the default `n` of 5) to calculate precision and recall. I also included a confusion matrix of the model.\n",
    "\n",
    "Results from the best model I could make is displayed below the following code block. I have also included a record of metrics from intermediate stages in order to show the variations of models I used."
   ]
  },
  {
   "cell_type": "code",
   "execution_count": 18,
   "metadata": {},
   "outputs": [
    {
     "name": "stdout",
     "output_type": "stream",
     "text": [
      "Test ROC AUC: 0.9731\n",
      "\n",
      "k-fold cross-validation metrics\n",
      "-------------------------------\n",
      "Test Precision: 0.9143\n",
      "Test Recall: 0.7850\n",
      "\n",
      "Confusion Matrix\n",
      "----------------\n",
      "[[21263   122]\n",
      " [  783  1010]]\n"
     ]
    }
   ],
   "source": [
    "# Original test\n",
    "auc = metrics.roc_auc_score(test_comments['attack'],\n",
    "                            clf.predict_proba(test_comments['comment'])[:, 1])\n",
    "print('Test ROC AUC: %.4f' % auc)\n",
    "print()\n",
    "\n",
    "# Default k for k-fold cross-validation is 5\n",
    "scores = cross_validate(clf,\n",
    "                        test_comments['comment'],\n",
    "                        test_comments['attack'],\n",
    "                        scoring=['precision_macro', 'recall_macro'],  # Metrics to use\n",
    "                        n_jobs=-1)  # Run on all available cores\n",
    "print('k-fold cross-validation metrics')\n",
    "print('-------------------------------')\n",
    "print('Test Precision: %.4f' % scores['test_precision_macro'].mean())\n",
    "print('Test Recall: %.4f' % scores['test_recall_macro'].mean())\n",
    "print()\n",
    "\n",
    "predicted = clf.predict(test_comments['comment'])\n",
    "print(\"Confusion Matrix\")\n",
    "print(\"----------------\")\n",
    "print(metrics.confusion_matrix(test_comments['attack'], predicted))"
   ]
  },
  {
   "cell_type": "markdown",
   "metadata": {},
   "source": [
    "The best overall model I was able to produce came from using the `SGDClassifier` with a Modified Huber loss function and an attack rating threshold of more than 7 reviewers indicating a personal attack in a comment.\n",
    "\n",
    "The closest competing model was created using the baseline's Logistic Regression, but with only unigrams instead of unigrams and bi-grams. The model can be found in the record of results below but I have also included it here for convenience.\n",
    "\n",
    "```\n",
    "Test ROC AUC: 0.9610\n",
    "\n",
    "k-fold cross-validation metrics\n",
    "-------------------------------\n",
    "Test Precision: 0.9228\n",
    "Test Recall: 0.7331\n",
    "\n",
    "Confusion Matrix\n",
    "----------------\n",
    "[[20263   159]\n",
    " [ 1141  1615]]\n",
    "```\n",
    "\n",
    "The precision in the above model is still higher than the model I chose as the best, but the ROC AUC, recall, and confusion matrix are all better in the `SGDClassifier` model."
   ]
  },
  {
   "cell_type": "markdown",
   "metadata": {},
   "source": [
    "**Record of Results**\n",
    "\n",
    "1. **Baseline with added metrics**\n",
    "\n",
    "```\n",
    "Test ROC AUC: 0.957\n",
    "\n",
    "k-fold cross-validation metrics\n",
    "-------------------------------\n",
    "Test Precision: 0.9237\n",
    "Test Recall: 0.7266\n",
    "\n",
    "Confusion Matrix\n",
    "----------------\n",
    "[[20280   142]\n",
    " [ 1236  1520]]\n",
    "```\n",
    "\n",
    "2. **Baseline with 'dev' data**\n",
    "\n",
    "```\n",
    "Test ROC AUC: 0.9573\n",
    "\n",
    "k-fold cross-validation metrics\n",
    "-------------------------------\n",
    "Test Precision: 0.9237\n",
    "Test Recall: 0.7266\n",
    "\n",
    "Confusion Matrix\n",
    "----------------\n",
    "[[20270   152]\n",
    " [ 1189  1567]]\n",
    "```\n",
    " \n",
    "3. **Baseline (Logistic Regression) with only unigrams**\n",
    "\n",
    "```\n",
    "Test ROC AUC: 0.9610\n",
    "\n",
    "k-fold cross-validation metrics\n",
    "-------------------------------\n",
    "Test Precision: 0.9228\n",
    "Test Recall: 0.7331\n",
    "\n",
    "Confusion Matrix\n",
    "----------------\n",
    "[[20263   159]\n",
    " [ 1141  1615]]\n",
    "```\n",
    "\n",
    "4. **Multinomial Naive Bayes: default params**\n",
    "\n",
    "```\n",
    "Test ROC AUC: 0.9379\n",
    "\n",
    "k-fold cross-validation metrics\n",
    "-------------------------------\n",
    "Test Precision: 0.9403\n",
    "Test Recall: 0.6546\n",
    "\n",
    "Confusion Matrix\n",
    "----------------\n",
    "[[20330    92]\n",
    " [ 1457  1299]]\n",
    "```\n",
    "\n",
    "5. **Multinomial Naive Bayes: alpha=0.5**\n",
    "\n",
    "```\n",
    "Test ROC AUC: 0.9402\n",
    "\n",
    "k-fold cross-validation metrics\n",
    "-------------------------------\n",
    "Test Precision: 0.9354\n",
    "Test Recall: 0.6993\n",
    "\n",
    "Confusion Matrix\n",
    "----------------\n",
    "[[20303   119]\n",
    " [ 1382  1374]]\n",
    "```\n",
    "\n",
    "6. **RandomForestClassifier: default params**\n",
    "\n",
    "```\n",
    "Test ROC AUC: 0.9503\n",
    "\n",
    "k-fold cross-validation metrics\n",
    "-------------------------------\n",
    "Test Precision: 0.9386\n",
    "Test Recall: 0.7093\n",
    "\n",
    "Confusion Matrix\n",
    "----------------\n",
    "[[20315   107]\n",
    " [ 1339  1417]]\n",
    "```\n",
    "\n",
    "7. **LinearSVC: default params**\n",
    "\n",
    "```\n",
    "no predict_proba method to calculate ROC AUC (leads to AttributeError)\n",
    "\n",
    "k-fold cross-validation metrics\n",
    "-------------------------------\n",
    "Test Precision: 0.9021\n",
    "Test Recall: 0.8006\n",
    "\n",
    "Confusion Matrix\n",
    "----------------\n",
    "[[20161   261]\n",
    " [  998  1758]]\n",
    "```\n",
    "\n",
    "8. **SGDClassifier: loss=modified_huber**\n",
    "\n",
    "```\n",
    "Test ROC AUC: 0.9584\n",
    "\n",
    "k-fold cross-validation metrics\n",
    "-------------------------------\n",
    "Test Precision: 0.9163\n",
    "Test Recall: 0.7893\n",
    "\n",
    "Confusion Matrix\n",
    "----------------\n",
    "[[20296   126]\n",
    " [ 1203  1553]]\n",
    "```\n",
    "\n",
    "9. **SGDClassifier: loss=modified_huber, tol=None**\n",
    "\n",
    "```\n",
    "Test ROC AUC: 0.9602\n",
    "\n",
    "k-fold cross-validation metrics\n",
    "-------------------------------\n",
    "Test Precision: 0.9174\n",
    "Test Recall: 0.7916\n",
    "\n",
    "Confusion Matrix\n",
    "----------------\n",
    "[[20281   141]\n",
    " [ 1164  1592]]\n",
    "```\n",
    "\n",
    "10. **SGDCLassifier: loss=modified_huber, tol=None; attack threshold is > 0.7 mean**\n",
    "\n",
    "```\n",
    "Test ROC AUC: 0.9731\n",
    "\n",
    "k-fold cross-validation metrics\n",
    "-------------------------------\n",
    "Test Precision: 0.9143\n",
    "Test Recall: 0.7850\n",
    "\n",
    "Confusion Matrix\n",
    "----------------\n",
    "[[21263   122]\n",
    " [  783  1010]]\n",
    "```"
   ]
  },
  {
   "cell_type": "code",
   "execution_count": 19,
   "metadata": {},
   "outputs": [
    {
     "data": {
      "text/plain": [
       "array([False])"
      ]
     },
     "execution_count": 19,
     "metadata": {},
     "output_type": "execute_result"
    }
   ],
   "source": [
    "# correctly classify nice comment\n",
    "clf.predict(['Thanks for you contribution, you did a great job!'])"
   ]
  },
  {
   "cell_type": "code",
   "execution_count": 20,
   "metadata": {},
   "outputs": [
    {
     "data": {
      "text/plain": [
       "array([ True])"
      ]
     },
     "execution_count": 20,
     "metadata": {},
     "output_type": "execute_result"
    }
   ],
   "source": [
    "# correctly classify nasty comment\n",
    "clf.predict(['People as stupid as you should not edit Wikipedia!'])"
   ]
  },
  {
   "cell_type": "markdown",
   "metadata": {},
   "source": [
    "### Final Thoughts\n",
    "\n",
    "What most interested me while working on this project is finally having the chance to see what an ML workflow looks like. I've had an interest in AI/ML since I got interested in computer science, but I have always prioritized something else to learn learn first. Now I finally have a base with which to explore these technologies further.\n",
    "\n",
    "The hardest part of the project was trying to figure out how to use sci-kit learn for tasks that do not fit nicely into the examples available in their documentation. At times it felt like trying to use an opinionated server framework for the first time, and attempting to use a workflow that is out of the ordinary. Becasue the framework doesn't expect that workflow, it makes it especially difficult to set things up correctly. It is very likely that this is simply due to inexperience with this technology. Overall, sklearn seems fairly easy to work with, I think I just need to use it more often for things to really click."
   ]
  }
 ],
 "metadata": {
  "anaconda-cloud": {},
  "kernelspec": {
   "display_name": "Python 3",
   "language": "python",
   "name": "python3"
  },
  "language_info": {
   "codemirror_mode": {
    "name": "ipython",
    "version": 3
   },
   "file_extension": ".py",
   "mimetype": "text/x-python",
   "name": "python",
   "nbconvert_exporter": "python",
   "pygments_lexer": "ipython3",
   "version": "3.7.6"
  }
 },
 "nbformat": 4,
 "nbformat_minor": 1
}
